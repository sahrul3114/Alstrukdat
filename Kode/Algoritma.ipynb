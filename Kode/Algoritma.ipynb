{
 "cells": [
  {
   "cell_type": "code",
   "execution_count": 16,
   "metadata": {},
   "outputs": [
    {
     "name": "stdout",
     "output_type": "stream",
     "text": [
      "4\n"
     ]
    }
   ],
   "source": [
    "def binary_search(list, item):\n",
    "    low = 0\n",
    "    high = len(list)\n",
    "\n",
    "    while low <= high:\n",
    "        mid = (low + high) // 2\n",
    "        guess = list[mid]\n",
    "        if guess == item:\n",
    "            return mid\n",
    "        if guess > item:\n",
    "            high = mid -1\n",
    "        else:\n",
    "            low = mid + 1\n",
    "    return None\n",
    "\n",
    "my_list = [1, 3, 5, 7, 9]\n",
    "\n",
    "print(binary_search(my_list, 9)) # ==> 1\n",
    "\n",
    "\n"
   ]
  },
  {
   "cell_type": "code",
   "execution_count": null,
   "metadata": {},
   "outputs": [
    {
     "name": "stdout",
     "output_type": "stream",
     "text": [
      "\n",
      "i=0  | j = 0\n",
      "\n",
      "i=2  | j = 0\n",
      "i=2  | j = 1\n",
      "i=2  | j = 2\n",
      "\n",
      "i=4  | j = 0\n",
      "i=4  | j = 1\n",
      "i=4  | j = 2\n",
      "i=4  | j = 3\n",
      "i=4  | j = 4\n",
      "\n",
      "i=6  | j = 0\n",
      "i=6  | j = 1\n",
      "i=6  | j = 2\n",
      "i=6  | j = 3\n",
      "i=6  | j = 4\n",
      "i=6  | j = 5\n",
      "i=6  | j = 6\n",
      "\n",
      "i=8  | j = 0\n",
      "i=8  | j = 1\n",
      "i=8  | j = 2\n",
      "i=8  | j = 3\n",
      "i=8  | j = 4\n",
      "i=8  | j = 5\n",
      "i=8  | j = 6\n",
      "i=8  | j = 7\n",
      "i=8  | j = 8\n"
     ]
    }
   ],
   "source": [
    "x = 10\n",
    "for i in range (x): # range (0, 5, 1)\n",
    "    if i%2 == 0:\n",
    "        print()\n",
    "        for j in range(i + 1):\n",
    "            print(f'i={i}  | j = {j}')\n",
    "        # x -= 1\n",
    "        # print(f'iteration ke - {i}, hasilnya {x}')\n",
    "\n"
   ]
  },
  {
   "cell_type": "code",
   "execution_count": 7,
   "metadata": {},
   "outputs": [
    {
     "name": "stdout",
     "output_type": "stream",
     "text": [
      "no\n"
     ]
    }
   ],
   "source": [
    "x = 5\n",
    "y = 5\n",
    "if x > y:\n",
    "    print(\"yes\")\n",
    "elif x < y:\n",
    "    print('bukan')\n",
    "else:\n",
    "    print(\"no\")"
   ]
  },
  {
   "cell_type": "code",
   "execution_count": 44,
   "metadata": {},
   "outputs": [
    {
     "name": "stdout",
     "output_type": "stream",
     "text": [
      "aaabbbccc\n"
     ]
    }
   ],
   "source": [
    "string = 'abc'\n",
    "output = ''\n",
    "\n",
    "for char in string:\n",
    "    for _ in range (len(string)):\n",
    "        output += char\n",
    "\n",
    "print(output)"
   ]
  },
  {
   "cell_type": "code",
   "execution_count": 42,
   "metadata": {},
   "outputs": [
    {
     "name": "stdout",
     "output_type": "stream",
     "text": [
      "Isi gelasA = susu | Isi gelasB = susu\n"
     ]
    }
   ],
   "source": [
    "gelasA = 'susu'\n",
    "gelasB = 'coklat'\n",
    "\n",
    "gelasA = gelasA\n",
    "gelasB = gelasA\n",
    "\n",
    "print(f'Isi gelasA = {gelasA} | Isi gelasB = {gelasB}')"
   ]
  },
  {
   "cell_type": "code",
   "execution_count": null,
   "metadata": {},
   "outputs": [],
   "source": [
    "def hitung_pendapatan_produk(data_transaksi):\n",
    "    pendapatan_produk = {}\n",
    "\n",
    "    for transaksi in data_transaksi :\n",
    "      for item in transaksi[\"detail\"]:\n",
    "        produk = item[\"produk\"]\n",
    "        kuantitas = item[\"kuantitas\"]\n",
    "        harga_satuan = item[\"harga_satuan\"]\n",
    "        promosi = item.get(\"promosi\", [])\n",
    "\n",
    "        # Harga sebelum diskon\n",
    "        total_harga = kuantitas * harga_satuan\n",
    "\n",
    "        # Hitung diskon jika ada\n",
    "        diskon = 0\n",
    "        for promosi_produk in promosi:\n",
    "            if promosi_produk[\"jenis\"] == \"Diskon\":\n",
    "              diskon = promosi_produk[\"persentase\"] / 100 * total_harga\n",
    "              break\n",
    "\n",
    "         # Hitung pendapatan produk\n",
    "        pendapatan_total = total_harga - diskon\n",
    "\n",
    "        # Menyimpan Pendapatan Produk ke Dictionary\n",
    "        if produk in pendapatan_produk:\n",
    "            pendapatan_produk[produk] += pendapatan_total\n",
    "        else:\n",
    "            pendapatan_produk[produk] = pendapatan_total\n",
    "\n",
    "    return pendapatan_produk\n",
    "\n",
    "# Memanggil fungsi\n",
    "pendapatan_produk_akhir = hitung_pendapatan_produk(data_transaksi)\n",
    "\n",
    "for produk, pendapatan in pendapatan_produk_akhir.items():\n",
    "    print(f\"Pendapatan Produk {produk} adalah sebesar {int(pendapatan):,}\")\n",
    "\n",
    "\n",
    "\n",
    "\n"
   ]
  },
  {
   "cell_type": "code",
   "execution_count": 9,
   "metadata": {},
   "outputs": [
    {
     "name": "stdout",
     "output_type": "stream",
     "text": [
      "hello world\n"
     ]
    }
   ],
   "source": [
    "print(\"hello world\")"
   ]
  }
 ],
 "metadata": {
  "kernelspec": {
   "display_name": "Python 3",
   "language": "python",
   "name": "python3"
  },
  "language_info": {
   "codemirror_mode": {
    "name": "ipython",
    "version": 3
   },
   "file_extension": ".py",
   "mimetype": "text/x-python",
   "name": "python",
   "nbconvert_exporter": "python",
   "pygments_lexer": "ipython3",
   "version": "3.12.1"
  }
 },
 "nbformat": 4,
 "nbformat_minor": 2
}
